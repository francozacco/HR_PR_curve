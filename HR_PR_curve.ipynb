{
 "cells": [
  {
   "cell_type": "markdown",
   "metadata": {},
   "source": [
    "# Human-Readable Precision-Recall curve construction procedure - (Pascal VOC 2012)\n",
    "## Imports"
   ]
  },
  {
   "cell_type": "code",
   "execution_count": 1,
   "metadata": {},
   "outputs": [],
   "source": [
    "import os\n",
    "import cv2\n",
    "import numpy as np\n",
    "import pandas as pd\n",
    "import matplotlib.pyplot as plt"
   ]
  },
  {
   "cell_type": "markdown",
   "metadata": {},
   "source": [
    "## Functions"
   ]
  },
  {
   "cell_type": "code",
   "execution_count": 2,
   "metadata": {},
   "outputs": [],
   "source": [
    "def unnormalize_coords(img, coords):\n",
    "    x = int(coords[0] * img.shape[1])\n",
    "    y = int(coords[1] * img.shape[0])\n",
    "    w = int(coords[2] * img.shape[1])\n",
    "    h = int(coords[3] * img.shape[0])\n",
    "    return [x, y, w, h]"
   ]
  },
  {
   "cell_type": "code",
   "execution_count": 3,
   "metadata": {},
   "outputs": [],
   "source": [
    "def to_dataset(imgs_path, ann_path, is_det=False, unnormalize=False):\n",
    "    imgs_list = [img for img in os.listdir(imgs_path) if img.endswith('.png') or img.endswith('.jpg')] \n",
    "    ann_list = [ann for ann in os.listdir(ann_path) if ann.endswith('.txt')]\n",
    "    annotations = []\n",
    "    for ann in ann_list:\n",
    "        ann_file_path = os.path.join(ann_path, ann)\n",
    "        ann_file = open(ann_file_path, 'r')\n",
    "        for line in ann_file:\n",
    "            line = line.replace(\"\\n\", \"\")\n",
    "            if line.replace(' ', '') == '':\n",
    "                continue\n",
    "            line = line.split(\" \")\n",
    "            line = [float(w) for w in line] \n",
    "            coords = line[-4:]\n",
    "\n",
    "            if unnormalize:\n",
    "                img_name = os.path.splitext(ann)[0] + '.jpg'\n",
    "                if img_name not in imgs_list:\n",
    "                    img_name = os.path.splitext(ann)[0] + '.png'\n",
    "                img_path = os.path.join(imgs_path, img_name)\n",
    "                img = cv2.imread(img_path)\n",
    "                new_coords = unnormalize_coords(img, coords)\n",
    "                line.append(new_coords)\n",
    "\n",
    "            line.insert(0, os.path.splitext(ann)[0])\n",
    "            annotations.append(line) \n",
    "        ann_file.close()\n",
    "    columns = ['image', 'label', 'x_norm', 'y_norm', 'w_norm', 'h_norm']\n",
    "    if unnormalize:\n",
    "        columns.extend(['xywh'])\n",
    "    if is_det:\n",
    "        columns.insert(2, 'score')\n",
    "    ann_df = pd.DataFrame(annotations, columns=columns)\n",
    "    return ann_df"
   ]
  },
  {
   "cell_type": "code",
   "execution_count": 4,
   "metadata": {},
   "outputs": [],
   "source": [
    "def get_iou(a, b, epsilon=1e-5):\n",
    "    \n",
    "    a = [a[0], a[1], a[0] + a[2], a[1] + a[3]]\n",
    "    b = [b[0], b[1], b[0] + b[2], b[1] + b[3]]\n",
    "\n",
    "    x1 = max(a[0], b[0])\n",
    "    y1 = max(a[1], b[1])\n",
    "    x2 = min(a[2], b[2])\n",
    "    y2 = min(a[3], b[3])\n",
    "\n",
    "    width = (x2 - x1)\n",
    "    height = (y2 - y1)\n",
    "\n",
    "    if (width<0) or (height <0):\n",
    "        return 0.0\n",
    "    area_overlap = width * height\n",
    "\n",
    "    area_a = (a[2] - a[0]) * (a[3] - a[1])\n",
    "    area_b = (b[2] - b[0]) * (b[3] - b[1])\n",
    "    area_combined = area_a + area_b - area_overlap\n",
    "\n",
    "    iou = area_overlap / (area_combined+epsilon)\n",
    "    return iou"
   ]
  },
  {
   "cell_type": "code",
   "execution_count": 5,
   "metadata": {},
   "outputs": [],
   "source": [
    "def calculate_AP(rec, prec):\n",
    "    mrec = []\n",
    "    mrec.append(0)\n",
    "    [mrec.append(e) for e in rec]\n",
    "    mrec.append(1)\n",
    "    mpre = []\n",
    "    mpre.append(0)\n",
    "    [mpre.append(e) for e in prec]\n",
    "    mpre.append(0)\n",
    "    for i in range(len(mpre) - 1, 0, -1):\n",
    "        mpre[i - 1] = max(mpre[i - 1], mpre[i])\n",
    "    ii = []\n",
    "    for i in range(len(mrec) - 1):\n",
    "        if mrec[1:][i] != mrec[0:-1][i]:\n",
    "            ii.append(i + 1)\n",
    "    ap = 0\n",
    "    for i in ii:\n",
    "        ap = ap + np.sum((mrec[i] - mrec[i - 1]) * mpre[i])\n",
    "    return ap\n"
   ]
  },
  {
   "cell_type": "code",
   "execution_count": 6,
   "metadata": {},
   "outputs": [],
   "source": [
    "def calculate_recall_precision_AP(ann_df, det_df, labels):\n",
    "    _ann_df = ann_df.copy(deep=True)\n",
    "    _det_df = det_df.copy(deep=True)\n",
    "    ret = []\n",
    "\n",
    "    for l in labels:\n",
    "        ann_labels = _ann_df[_ann_df['label'] == l]\n",
    "        ann_labels.reset_index(inplace=True, drop=True)\n",
    "        ann_labels['seen'] = [0 for _ in range(ann_labels.shape[0])]\n",
    "        det_labels = _det_df[_det_df['label'] == l]\n",
    "        \n",
    "        npos = ann_labels.shape[0]\n",
    "        TP = np.zeros(det_labels.shape[0])\n",
    "        FP = np.zeros(det_labels.shape[0])\n",
    "        \n",
    "        det_labels = det_labels.sort_values(by=['score'], ascending=False)\n",
    "        det_labels.reset_index(inplace=True, drop=True)\n",
    "        \n",
    "        for i, pred in det_labels.iterrows():\n",
    "            pred['image']\n",
    "            only_img_ann = ann_labels[ann_labels['image'] == pred['image']]\n",
    "            only_img_ann = only_img_ann[only_img_ann['seen'] == 0]\n",
    "                \n",
    "            max_iou_found = 0 \n",
    "            for j, ann in only_img_ann.iterrows():\n",
    "                iou = get_iou(pred['xywh'], ann['xywh'])\n",
    "                if iou > max_iou_found:\n",
    "                    max_iou_found = iou\n",
    "                    ann_seen = j\n",
    "\n",
    "            if max_iou_found >= IOU_THR:\n",
    "                TP[i] = 1\n",
    "                ann_labels.loc[ann_seen, 'seen'] = 1\n",
    "            else:\n",
    "                FP[i] = 1\n",
    "        \n",
    "        acc_FP = np.cumsum(FP)\n",
    "        acc_TP = np.cumsum(TP)\n",
    "        rec = acc_TP / npos\n",
    "        prec = np.divide(acc_TP, (acc_FP + acc_TP))\n",
    "        ap = calculate_AP(rec, prec)\n",
    "        r = {\n",
    "            'class': l,\n",
    "            'precision': prec,\n",
    "            'recall': rec,\n",
    "            'AP': ap * 100,\n",
    "            'total TP': np.sum(TP),\n",
    "            'total FP': np.sum(FP)\n",
    "        }\n",
    "        ret.append(r)\n",
    "    return ret"
   ]
  },
  {
   "cell_type": "code",
   "execution_count": 7,
   "metadata": {},
   "outputs": [],
   "source": [
    "def plot(ret):\n",
    "    for rs in ret:\n",
    "        plt.figure(figsize=[15, 10])\n",
    "        plt.plot(rs['recall'], rs['precision'])\n",
    "        plt.title('class: {} | AP: {:.2f}%'.format(rs['class'], rs['AP']))\n",
    "        plt.xlabel('recall')\n",
    "        plt.ylabel('precision')\n",
    "        "
   ]
  },
  {
   "cell_type": "markdown",
   "metadata": {},
   "source": [
    "## Upload dataset"
   ]
  },
  {
   "cell_type": "code",
   "execution_count": 8,
   "metadata": {},
   "outputs": [],
   "source": [
    "IMGS_PATH = 'path/to/imges/folder/'\n",
    "ANN_PATH = 'path/to/annotations/folder/'\n",
    "DET_PATH = 'path/to/detections/folder'\n",
    "\n",
    "IOU_THR = 0.3"
   ]
  },
  {
   "cell_type": "code",
   "execution_count": 9,
   "metadata": {},
   "outputs": [
    {
     "data": {
      "text/html": [
       "<div>\n",
       "<style scoped>\n",
       "    .dataframe tbody tr th:only-of-type {\n",
       "        vertical-align: middle;\n",
       "    }\n",
       "\n",
       "    .dataframe tbody tr th {\n",
       "        vertical-align: top;\n",
       "    }\n",
       "\n",
       "    .dataframe thead th {\n",
       "        text-align: right;\n",
       "    }\n",
       "</style>\n",
       "<table border=\"1\" class=\"dataframe\">\n",
       "  <thead>\n",
       "    <tr style=\"text-align: right;\">\n",
       "      <th></th>\n",
       "      <th>image</th>\n",
       "      <th>label</th>\n",
       "      <th>x_norm</th>\n",
       "      <th>y_norm</th>\n",
       "      <th>w_norm</th>\n",
       "      <th>h_norm</th>\n",
       "      <th>xywh</th>\n",
       "    </tr>\n",
       "  </thead>\n",
       "  <tbody>\n",
       "    <tr>\n",
       "      <td>0</td>\n",
       "      <td>new_158</td>\n",
       "      <td>0.0</td>\n",
       "      <td>0.202338</td>\n",
       "      <td>0.361112</td>\n",
       "      <td>0.603801</td>\n",
       "      <td>0.590643</td>\n",
       "      <td>[121, 216, 362, 354]</td>\n",
       "    </tr>\n",
       "    <tr>\n",
       "      <td>1</td>\n",
       "      <td>196</td>\n",
       "      <td>0.0</td>\n",
       "      <td>0.158480</td>\n",
       "      <td>0.407895</td>\n",
       "      <td>0.538012</td>\n",
       "      <td>0.548246</td>\n",
       "      <td>[95, 244, 322, 328]</td>\n",
       "    </tr>\n",
       "    <tr>\n",
       "      <td>2</td>\n",
       "      <td>45</td>\n",
       "      <td>0.0</td>\n",
       "      <td>0.155556</td>\n",
       "      <td>0.361112</td>\n",
       "      <td>0.605263</td>\n",
       "      <td>0.581871</td>\n",
       "      <td>[93, 216, 363, 349]</td>\n",
       "    </tr>\n",
       "    <tr>\n",
       "      <td>3</td>\n",
       "      <td>new_216</td>\n",
       "      <td>0.0</td>\n",
       "      <td>0.187719</td>\n",
       "      <td>0.486842</td>\n",
       "      <td>0.592105</td>\n",
       "      <td>0.502924</td>\n",
       "      <td>[112, 292, 355, 301]</td>\n",
       "    </tr>\n",
       "    <tr>\n",
       "      <td>4</td>\n",
       "      <td>28_b1093556-838c-4b45-8778-21eb76916316</td>\n",
       "      <td>0.0</td>\n",
       "      <td>0.071000</td>\n",
       "      <td>0.257500</td>\n",
       "      <td>0.048000</td>\n",
       "      <td>0.087000</td>\n",
       "      <td>[45, 123, 30, 41]</td>\n",
       "    </tr>\n",
       "  </tbody>\n",
       "</table>\n",
       "</div>"
      ],
      "text/plain": [
       "                                     image  label    x_norm    y_norm  \\\n",
       "0                                  new_158    0.0  0.202338  0.361112   \n",
       "1                                      196    0.0  0.158480  0.407895   \n",
       "2                                       45    0.0  0.155556  0.361112   \n",
       "3                                  new_216    0.0  0.187719  0.486842   \n",
       "4  28_b1093556-838c-4b45-8778-21eb76916316    0.0  0.071000  0.257500   \n",
       "\n",
       "     w_norm    h_norm                  xywh  \n",
       "0  0.603801  0.590643  [121, 216, 362, 354]  \n",
       "1  0.538012  0.548246   [95, 244, 322, 328]  \n",
       "2  0.605263  0.581871   [93, 216, 363, 349]  \n",
       "3  0.592105  0.502924  [112, 292, 355, 301]  \n",
       "4  0.048000  0.087000     [45, 123, 30, 41]  "
      ]
     },
     "execution_count": 9,
     "metadata": {},
     "output_type": "execute_result"
    }
   ],
   "source": [
    "ann_df = to_dataset(IMGS_PATH, ANN_PATH, unnormalize=True)\n",
    "ann_df.head(5)"
   ]
  },
  {
   "cell_type": "code",
   "execution_count": 10,
   "metadata": {
    "scrolled": true
   },
   "outputs": [
    {
     "data": {
      "text/html": [
       "<div>\n",
       "<style scoped>\n",
       "    .dataframe tbody tr th:only-of-type {\n",
       "        vertical-align: middle;\n",
       "    }\n",
       "\n",
       "    .dataframe tbody tr th {\n",
       "        vertical-align: top;\n",
       "    }\n",
       "\n",
       "    .dataframe thead th {\n",
       "        text-align: right;\n",
       "    }\n",
       "</style>\n",
       "<table border=\"1\" class=\"dataframe\">\n",
       "  <thead>\n",
       "    <tr style=\"text-align: right;\">\n",
       "      <th></th>\n",
       "      <th>image</th>\n",
       "      <th>label</th>\n",
       "      <th>score</th>\n",
       "      <th>x_norm</th>\n",
       "      <th>y_norm</th>\n",
       "      <th>w_norm</th>\n",
       "      <th>h_norm</th>\n",
       "      <th>xywh</th>\n",
       "    </tr>\n",
       "  </thead>\n",
       "  <tbody>\n",
       "    <tr>\n",
       "      <td>0</td>\n",
       "      <td>new_158</td>\n",
       "      <td>0.0</td>\n",
       "      <td>0.793515</td>\n",
       "      <td>0.120000</td>\n",
       "      <td>0.205000</td>\n",
       "      <td>0.643333</td>\n",
       "      <td>0.773333</td>\n",
       "      <td>[72, 122, 386, 464]</td>\n",
       "    </tr>\n",
       "    <tr>\n",
       "      <td>1</td>\n",
       "      <td>new_158</td>\n",
       "      <td>0.0</td>\n",
       "      <td>0.146103</td>\n",
       "      <td>0.160000</td>\n",
       "      <td>0.308333</td>\n",
       "      <td>0.338333</td>\n",
       "      <td>0.561667</td>\n",
       "      <td>[96, 185, 203, 337]</td>\n",
       "    </tr>\n",
       "    <tr>\n",
       "      <td>2</td>\n",
       "      <td>196</td>\n",
       "      <td>0.0</td>\n",
       "      <td>0.982109</td>\n",
       "      <td>0.123333</td>\n",
       "      <td>0.320000</td>\n",
       "      <td>0.598333</td>\n",
       "      <td>0.645000</td>\n",
       "      <td>[74, 192, 359, 387]</td>\n",
       "    </tr>\n",
       "    <tr>\n",
       "      <td>3</td>\n",
       "      <td>45</td>\n",
       "      <td>0.0</td>\n",
       "      <td>0.881024</td>\n",
       "      <td>0.173333</td>\n",
       "      <td>0.005000</td>\n",
       "      <td>0.730000</td>\n",
       "      <td>0.928333</td>\n",
       "      <td>[104, 3, 438, 557]</td>\n",
       "    </tr>\n",
       "    <tr>\n",
       "      <td>4</td>\n",
       "      <td>45</td>\n",
       "      <td>0.0</td>\n",
       "      <td>0.535833</td>\n",
       "      <td>0.158333</td>\n",
       "      <td>0.256667</td>\n",
       "      <td>0.393333</td>\n",
       "      <td>0.685000</td>\n",
       "      <td>[95, 154, 236, 411]</td>\n",
       "    </tr>\n",
       "  </tbody>\n",
       "</table>\n",
       "</div>"
      ],
      "text/plain": [
       "     image  label     score    x_norm    y_norm    w_norm    h_norm  \\\n",
       "0  new_158    0.0  0.793515  0.120000  0.205000  0.643333  0.773333   \n",
       "1  new_158    0.0  0.146103  0.160000  0.308333  0.338333  0.561667   \n",
       "2      196    0.0  0.982109  0.123333  0.320000  0.598333  0.645000   \n",
       "3       45    0.0  0.881024  0.173333  0.005000  0.730000  0.928333   \n",
       "4       45    0.0  0.535833  0.158333  0.256667  0.393333  0.685000   \n",
       "\n",
       "                  xywh  \n",
       "0  [72, 122, 386, 464]  \n",
       "1  [96, 185, 203, 337]  \n",
       "2  [74, 192, 359, 387]  \n",
       "3   [104, 3, 438, 557]  \n",
       "4  [95, 154, 236, 411]  "
      ]
     },
     "execution_count": 10,
     "metadata": {},
     "output_type": "execute_result"
    }
   ],
   "source": [
    "det_df = to_dataset(IMGS_PATH, DET_PATH, is_det=True, unnormalize=True)\n",
    "det_df.head(5)"
   ]
  },
  {
   "cell_type": "code",
   "execution_count": 11,
   "metadata": {
    "scrolled": false
   },
   "outputs": [],
   "source": [
    "# Pass to last argument a list of labels, in this case only one label is used \"0\"\n",
    "ret = calculate_recall_precision_AP(ann_df, det_df, [0])"
   ]
  },
  {
   "cell_type": "code",
   "execution_count": 12,
   "metadata": {
    "scrolled": false
   },
   "outputs": [
    {
     "data": {
      "image/png": "[encoded data removed]",
      "text/plain": [
       "<Figure size 1080x720 with 1 Axes>"
      ]
     },
     "metadata": {
      "needs_background": "light"
     },
     "output_type": "display_data"
    }
   ],
   "source": [
    "plot(ret)"
   ]
  }
 ],
 "metadata": {
  "kernelspec": {
   "display_name": "Python 3",
   "language": "python",
   "name": "python3"
  },
  "language_info": {
   "codemirror_mode": {
    "name": "ipython",
    "version": 3
   },
   "file_extension": ".py",
   "mimetype": "text/x-python",
   "name": "python",
   "nbconvert_exporter": "python",
   "pygments_lexer": "ipython3",
   "version": "3.8.2"
  }
 },
 "nbformat": 4,
 "nbformat_minor": 2
}
